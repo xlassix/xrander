{
 "cells": [
  {
   "cell_type": "markdown",
   "id": "e82a0921",
   "metadata": {
    "papermill": {
     "duration": 0.017393,
     "end_time": "2021-12-30T23:16:44.868214",
     "exception": false,
     "start_time": "2021-12-30T23:16:44.850821",
     "status": "completed"
    },
    "tags": []
   },
   "source": [
    "**This notebook is an exercise in the [Pandas](https://www.kaggle.com/learn/pandas) course.  You can reference the tutorial at [this link](https://www.kaggle.com/residentmario/creating-reading-and-writing).**\n",
    "\n",
    "---\n"
   ]
  },
  {
   "cell_type": "markdown",
   "id": "858f06d2",
   "metadata": {
    "papermill": {
     "duration": 0.016948,
     "end_time": "2021-12-30T23:16:44.901834",
     "exception": false,
     "start_time": "2021-12-30T23:16:44.884886",
     "status": "completed"
    },
    "tags": []
   },
   "source": [
    "# Introduction\n",
    "\n",
    "The first step in most data analytics projects is reading the data file. In this exercise, you'll create Series and DataFrame objects, both by hand and by reading data files.\n",
    "\n",
    "Run the code cell below to load libraries you will need (including code to check your answers)."
   ]
  },
  {
   "cell_type": "code",
   "execution_count": 1,
   "id": "8e480bba",
   "metadata": {
    "execution": {
     "iopub.execute_input": "2021-12-30T23:16:44.938175Z",
     "iopub.status.busy": "2021-12-30T23:16:44.937019Z",
     "iopub.status.idle": "2021-12-30T23:16:46.771081Z",
     "shell.execute_reply": "2021-12-30T23:16:46.771880Z",
     "shell.execute_reply.started": "2021-12-30T23:15:22.611611Z"
    },
    "papermill": {
     "duration": 1.854283,
     "end_time": "2021-12-30T23:16:46.772292",
     "exception": false,
     "start_time": "2021-12-30T23:16:44.918009",
     "status": "completed"
    },
    "tags": []
   },
   "outputs": [
    {
     "name": "stdout",
     "output_type": "stream",
     "text": [
      "Setup complete.\n"
     ]
    }
   ],
   "source": [
    "import pandas as pd\n",
    "pd.set_option('max_rows', 5)\n",
    "from learntools.core import binder; binder.bind(globals())\n",
    "from learntools.pandas.creating_reading_and_writing import *\n",
    "print(\"Setup complete.\")"
   ]
  },
  {
   "cell_type": "markdown",
   "id": "3a6af57e",
   "metadata": {
    "papermill": {
     "duration": 0.016407,
     "end_time": "2021-12-30T23:16:46.805826",
     "exception": false,
     "start_time": "2021-12-30T23:16:46.789419",
     "status": "completed"
    },
    "tags": []
   },
   "source": [
    "# Exercises"
   ]
  },
  {
   "cell_type": "markdown",
   "id": "ed85bdb7",
   "metadata": {
    "papermill": {
     "duration": 0.016203,
     "end_time": "2021-12-30T23:16:46.838742",
     "exception": false,
     "start_time": "2021-12-30T23:16:46.822539",
     "status": "completed"
    },
    "tags": []
   },
   "source": [
    "## 1.\n",
    "\n",
    "In the cell below, create a DataFrame `fruits` that looks like this:\n",
    "\n",
    "![](https://i.imgur.com/Ax3pp2A.png)"
   ]
  },
  {
   "cell_type": "code",
   "execution_count": 2,
   "id": "e141ef38",
   "metadata": {
    "execution": {
     "iopub.execute_input": "2021-12-30T23:16:46.876246Z",
     "iopub.status.busy": "2021-12-30T23:16:46.875248Z",
     "iopub.status.idle": "2021-12-30T23:16:46.890391Z",
     "shell.execute_reply": "2021-12-30T23:16:46.890884Z",
     "shell.execute_reply.started": "2021-12-30T23:15:22.632999Z"
    },
    "papermill": {
     "duration": 0.035692,
     "end_time": "2021-12-30T23:16:46.891079",
     "exception": false,
     "start_time": "2021-12-30T23:16:46.855387",
     "status": "completed"
    },
    "tags": []
   },
   "outputs": [
    {
     "data": {
      "text/html": [
       "<div>\n",
       "<style scoped>\n",
       "    .dataframe tbody tr th:only-of-type {\n",
       "        vertical-align: middle;\n",
       "    }\n",
       "\n",
       "    .dataframe tbody tr th {\n",
       "        vertical-align: top;\n",
       "    }\n",
       "\n",
       "    .dataframe thead th {\n",
       "        text-align: right;\n",
       "    }\n",
       "</style>\n",
       "<table border=\"1\" class=\"dataframe\">\n",
       "  <thead>\n",
       "    <tr style=\"text-align: right;\">\n",
       "      <th></th>\n",
       "      <th>Apples</th>\n",
       "      <th>Bananas</th>\n",
       "    </tr>\n",
       "  </thead>\n",
       "  <tbody>\n",
       "    <tr>\n",
       "      <th>0</th>\n",
       "      <td>30</td>\n",
       "      <td>21</td>\n",
       "    </tr>\n",
       "  </tbody>\n",
       "</table>\n",
       "</div>"
      ],
      "text/plain": [
       "   Apples  Bananas\n",
       "0      30       21"
      ]
     },
     "execution_count": 2,
     "metadata": {},
     "output_type": "execute_result"
    }
   ],
   "source": [
    "# Your code goes here. Create a dataframe matching the above diagram and assign it to the variable fruits.\n",
    "fruits = pd.DataFrame ({'Apples':[30], 'Bananas': [21]})\n",
    "\n",
    "# Check your answer\n",
    "\n",
    "fruits"
   ]
  },
  {
   "cell_type": "markdown",
   "id": "038a745d",
   "metadata": {
    "papermill": {
     "duration": 0.016481,
     "end_time": "2021-12-30T23:16:46.924510",
     "exception": false,
     "start_time": "2021-12-30T23:16:46.908029",
     "status": "completed"
    },
    "tags": []
   },
   "source": []
  },
  {
   "cell_type": "code",
   "execution_count": 3,
   "id": "5bdaf0ee",
   "metadata": {
    "execution": {
     "iopub.execute_input": "2021-12-30T23:16:46.962232Z",
     "iopub.status.busy": "2021-12-30T23:16:46.960977Z",
     "iopub.status.idle": "2021-12-30T23:16:46.964809Z",
     "shell.execute_reply": "2021-12-30T23:16:46.964310Z",
     "shell.execute_reply.started": "2021-12-30T23:15:22.643955Z"
    },
    "papermill": {
     "duration": 0.023319,
     "end_time": "2021-12-30T23:16:46.964938",
     "exception": false,
     "start_time": "2021-12-30T23:16:46.941619",
     "status": "completed"
    },
    "tags": []
   },
   "outputs": [],
   "source": [
    "#q1.hint()\n",
    "#q1.solution()"
   ]
  },
  {
   "cell_type": "markdown",
   "id": "c75c640a",
   "metadata": {
    "papermill": {
     "duration": 0.016528,
     "end_time": "2021-12-30T23:16:46.998306",
     "exception": false,
     "start_time": "2021-12-30T23:16:46.981778",
     "status": "completed"
    },
    "tags": []
   },
   "source": [
    "## 2.\n",
    "\n",
    "Create a dataframe `fruit_sales` that matches the diagram below:\n",
    "\n",
    "![](https://i.imgur.com/CHPn7ZF.png)"
   ]
  },
  {
   "cell_type": "code",
   "execution_count": 4,
   "id": "de94f7fc",
   "metadata": {
    "execution": {
     "iopub.execute_input": "2021-12-30T23:16:47.040578Z",
     "iopub.status.busy": "2021-12-30T23:16:47.039925Z",
     "iopub.status.idle": "2021-12-30T23:16:47.045325Z",
     "shell.execute_reply": "2021-12-30T23:16:47.045846Z",
     "shell.execute_reply.started": "2021-12-30T23:15:22.657604Z"
    },
    "papermill": {
     "duration": 0.030683,
     "end_time": "2021-12-30T23:16:47.046032",
     "exception": false,
     "start_time": "2021-12-30T23:16:47.015349",
     "status": "completed"
    },
    "tags": []
   },
   "outputs": [
    {
     "data": {
      "text/html": [
       "<div>\n",
       "<style scoped>\n",
       "    .dataframe tbody tr th:only-of-type {\n",
       "        vertical-align: middle;\n",
       "    }\n",
       "\n",
       "    .dataframe tbody tr th {\n",
       "        vertical-align: top;\n",
       "    }\n",
       "\n",
       "    .dataframe thead th {\n",
       "        text-align: right;\n",
       "    }\n",
       "</style>\n",
       "<table border=\"1\" class=\"dataframe\">\n",
       "  <thead>\n",
       "    <tr style=\"text-align: right;\">\n",
       "      <th></th>\n",
       "      <th>Apples</th>\n",
       "      <th>Bananas</th>\n",
       "    </tr>\n",
       "  </thead>\n",
       "  <tbody>\n",
       "    <tr>\n",
       "      <th>2017 Sales</th>\n",
       "      <td>35</td>\n",
       "      <td>21</td>\n",
       "    </tr>\n",
       "    <tr>\n",
       "      <th>2018 Sales</th>\n",
       "      <td>41</td>\n",
       "      <td>34</td>\n",
       "    </tr>\n",
       "  </tbody>\n",
       "</table>\n",
       "</div>"
      ],
      "text/plain": [
       "            Apples  Bananas\n",
       "2017 Sales      35       21\n",
       "2018 Sales      41       34"
      ]
     },
     "execution_count": 4,
     "metadata": {},
     "output_type": "execute_result"
    }
   ],
   "source": [
    "# Your code goes here. Create a dataframe matching the above diagram and assign it to the variable fruit_sales.\n",
    "fruit_sales = pd.DataFrame ({'Apples': [35, 41], 'Bananas': [21, 34]}, index = ['2017 Sales', '2018 Sales'])\n",
    "\n",
    "fruit_sales\n"
   ]
  },
  {
   "cell_type": "code",
   "execution_count": 5,
   "id": "cf5762fa",
   "metadata": {
    "execution": {
     "iopub.execute_input": "2021-12-30T23:16:47.084818Z",
     "iopub.status.busy": "2021-12-30T23:16:47.084192Z",
     "iopub.status.idle": "2021-12-30T23:16:47.089500Z",
     "shell.execute_reply": "2021-12-30T23:16:47.088931Z",
     "shell.execute_reply.started": "2021-12-30T23:15:22.676766Z"
    },
    "papermill": {
     "duration": 0.025261,
     "end_time": "2021-12-30T23:16:47.089665",
     "exception": false,
     "start_time": "2021-12-30T23:16:47.064404",
     "status": "completed"
    },
    "tags": []
   },
   "outputs": [
    {
     "data": {
      "text/plain": [
       "<learntools.core.problem_view.ProblemView at 0x7f60f3ca4750>"
      ]
     },
     "execution_count": 5,
     "metadata": {},
     "output_type": "execute_result"
    }
   ],
   "source": [
    "#q2int()\n",
    "q2\n",
    "#q2.solution()"
   ]
  },
  {
   "cell_type": "markdown",
   "id": "5553780a",
   "metadata": {
    "papermill": {
     "duration": 0.017207,
     "end_time": "2021-12-30T23:16:47.124593",
     "exception": false,
     "start_time": "2021-12-30T23:16:47.107386",
     "status": "completed"
    },
    "tags": []
   },
   "source": [
    "## 3.\n",
    "\n",
    "Create a variable `ingredients` with a Series that looks like:\n",
    "\n",
    "```\n",
    "Flour     4 cups\n",
    "Milk       1 cup\n",
    "Eggs     2 large\n",
    "Spam       1 can\n",
    "Name: Dinner, dtype: object\n",
    "```"
   ]
  },
  {
   "cell_type": "code",
   "execution_count": 6,
   "id": "1b28e947",
   "metadata": {
    "execution": {
     "iopub.execute_input": "2021-12-30T23:16:47.164218Z",
     "iopub.status.busy": "2021-12-30T23:16:47.163224Z",
     "iopub.status.idle": "2021-12-30T23:16:47.175183Z",
     "shell.execute_reply": "2021-12-30T23:16:47.175763Z",
     "shell.execute_reply.started": "2021-12-30T23:15:22.686823Z"
    },
    "papermill": {
     "duration": 0.033528,
     "end_time": "2021-12-30T23:16:47.175939",
     "exception": false,
     "start_time": "2021-12-30T23:16:47.142411",
     "status": "completed"
    },
    "tags": []
   },
   "outputs": [
    {
     "data": {
      "application/javascript": [
       "parent.postMessage({\"jupyterEvent\": \"custom.exercise_interaction\", \"data\": {\"outcomeType\": 1, \"valueTowardsCompletion\": 0.16666666666666666, \"interactionType\": 1, \"questionType\": 2, \"questionId\": \"3_RecipeSeriesCreation\", \"learnToolsVersion\": \"0.3.4\", \"failureMessage\": \"\", \"exceptionClass\": \"\", \"trace\": \"\"}}, \"*\")"
      ],
      "text/plain": [
       "<IPython.core.display.Javascript object>"
      ]
     },
     "metadata": {},
     "output_type": "display_data"
    },
    {
     "data": {
      "text/markdown": [
       "<span style=\"color:#33cc33\">Correct</span>"
      ],
      "text/plain": [
       "Correct"
      ]
     },
     "metadata": {},
     "output_type": "display_data"
    },
    {
     "data": {
      "text/plain": [
       "Flour     4 cups\n",
       "Milk       1 cup\n",
       "Eggs     2 large\n",
       "Spam       1 can\n",
       "Name: Dinner, dtype: object"
      ]
     },
     "execution_count": 6,
     "metadata": {},
     "output_type": "execute_result"
    }
   ],
   "source": [
    "ingredients = pd.Series (['4 cups', '1 cup', '2 large', '1 can'], index = ['Flour', 'Milk', 'Eggs', 'Spam'], name = 'Dinner')\n",
    "ingredients\n",
    "# Check your answer\n",
    "q3.check()\n",
    "ingredients"
   ]
  },
  {
   "cell_type": "code",
   "execution_count": 7,
   "id": "46201285",
   "metadata": {
    "execution": {
     "iopub.execute_input": "2021-12-30T23:16:47.217761Z",
     "iopub.status.busy": "2021-12-30T23:16:47.216778Z",
     "iopub.status.idle": "2021-12-30T23:16:47.220071Z",
     "shell.execute_reply": "2021-12-30T23:16:47.220653Z",
     "shell.execute_reply.started": "2021-12-30T23:15:22.706141Z"
    },
    "papermill": {
     "duration": 0.025969,
     "end_time": "2021-12-30T23:16:47.220826",
     "exception": false,
     "start_time": "2021-12-30T23:16:47.194857",
     "status": "completed"
    },
    "tags": []
   },
   "outputs": [],
   "source": [
    "#q3.hint()\n",
    "#q3.solution()"
   ]
  },
  {
   "cell_type": "markdown",
   "id": "79dfd3e7",
   "metadata": {
    "papermill": {
     "duration": 0.018686,
     "end_time": "2021-12-30T23:16:47.259109",
     "exception": false,
     "start_time": "2021-12-30T23:16:47.240423",
     "status": "completed"
    },
    "tags": []
   },
   "source": [
    "## 4.\n",
    "\n",
    "Read the following csv dataset of wine reviews into a DataFrame called `reviews`:\n",
    "\n",
    "![](https://i.imgur.com/74RCZtU.png)\n",
    "\n",
    "The filepath to the csv file is `../input/wine-reviews/winemag-data_first150k.csv`. The first few lines look like:\n",
    "\n",
    "```\n",
    ",country,description,designation,points,price,province,region_1,region_2,variety,winery\n",
    "0,US,\"This tremendous 100% varietal wine[...]\",Martha's Vineyard,96,235.0,California,Napa Valley,Napa,Cabernet Sauvignon,Heitz\n",
    "1,Spain,\"Ripe aromas of fig, blackberry and[...]\",Carodorum Selección Especial Reserva,96,110.0,Northern Spain,Toro,,Tinta de Toro,Bodega Carmen Rodríguez\n",
    "```"
   ]
  },
  {
   "cell_type": "code",
   "execution_count": 8,
   "id": "0d7f2a73",
   "metadata": {
    "execution": {
     "iopub.execute_input": "2021-12-30T23:16:47.300855Z",
     "iopub.status.busy": "2021-12-30T23:16:47.299890Z",
     "iopub.status.idle": "2021-12-30T23:16:48.195167Z",
     "shell.execute_reply": "2021-12-30T23:16:48.195629Z",
     "shell.execute_reply.started": "2021-12-30T23:15:22.711450Z"
    },
    "papermill": {
     "duration": 0.917611,
     "end_time": "2021-12-30T23:16:48.195799",
     "exception": false,
     "start_time": "2021-12-30T23:16:47.278188",
     "status": "completed"
    },
    "tags": []
   },
   "outputs": [
    {
     "data": {
      "application/javascript": [
       "parent.postMessage({\"jupyterEvent\": \"custom.exercise_interaction\", \"data\": {\"outcomeType\": 1, \"valueTowardsCompletion\": 0.16666666666666666, \"interactionType\": 1, \"questionType\": 1, \"questionId\": \"4_ReadWineCsv\", \"learnToolsVersion\": \"0.3.4\", \"failureMessage\": \"\", \"exceptionClass\": \"\", \"trace\": \"\"}}, \"*\")"
      ],
      "text/plain": [
       "<IPython.core.display.Javascript object>"
      ]
     },
     "metadata": {},
     "output_type": "display_data"
    },
    {
     "data": {
      "text/markdown": [
       "<span style=\"color:#33cc33\">Correct</span>"
      ],
      "text/plain": [
       "Correct"
      ]
     },
     "metadata": {},
     "output_type": "display_data"
    },
    {
     "data": {
      "text/html": [
       "<div>\n",
       "<style scoped>\n",
       "    .dataframe tbody tr th:only-of-type {\n",
       "        vertical-align: middle;\n",
       "    }\n",
       "\n",
       "    .dataframe tbody tr th {\n",
       "        vertical-align: top;\n",
       "    }\n",
       "\n",
       "    .dataframe thead th {\n",
       "        text-align: right;\n",
       "    }\n",
       "</style>\n",
       "<table border=\"1\" class=\"dataframe\">\n",
       "  <thead>\n",
       "    <tr style=\"text-align: right;\">\n",
       "      <th></th>\n",
       "      <th>country</th>\n",
       "      <th>description</th>\n",
       "      <th>designation</th>\n",
       "      <th>points</th>\n",
       "      <th>price</th>\n",
       "      <th>province</th>\n",
       "      <th>region_1</th>\n",
       "      <th>region_2</th>\n",
       "      <th>variety</th>\n",
       "      <th>winery</th>\n",
       "    </tr>\n",
       "  </thead>\n",
       "  <tbody>\n",
       "    <tr>\n",
       "      <th>0</th>\n",
       "      <td>US</td>\n",
       "      <td>This tremendous 100% varietal wine hails from ...</td>\n",
       "      <td>Martha's Vineyard</td>\n",
       "      <td>96</td>\n",
       "      <td>235.0</td>\n",
       "      <td>California</td>\n",
       "      <td>Napa Valley</td>\n",
       "      <td>Napa</td>\n",
       "      <td>Cabernet Sauvignon</td>\n",
       "      <td>Heitz</td>\n",
       "    </tr>\n",
       "    <tr>\n",
       "      <th>1</th>\n",
       "      <td>Spain</td>\n",
       "      <td>Ripe aromas of fig, blackberry and cassis are ...</td>\n",
       "      <td>Carodorum Selección Especial Reserva</td>\n",
       "      <td>96</td>\n",
       "      <td>110.0</td>\n",
       "      <td>Northern Spain</td>\n",
       "      <td>Toro</td>\n",
       "      <td>NaN</td>\n",
       "      <td>Tinta de Toro</td>\n",
       "      <td>Bodega Carmen Rodríguez</td>\n",
       "    </tr>\n",
       "    <tr>\n",
       "      <th>...</th>\n",
       "      <td>...</td>\n",
       "      <td>...</td>\n",
       "      <td>...</td>\n",
       "      <td>...</td>\n",
       "      <td>...</td>\n",
       "      <td>...</td>\n",
       "      <td>...</td>\n",
       "      <td>...</td>\n",
       "      <td>...</td>\n",
       "      <td>...</td>\n",
       "    </tr>\n",
       "    <tr>\n",
       "      <th>150928</th>\n",
       "      <td>France</td>\n",
       "      <td>A perfect salmon shade, with scents of peaches...</td>\n",
       "      <td>Grand Brut Rosé</td>\n",
       "      <td>90</td>\n",
       "      <td>52.0</td>\n",
       "      <td>Champagne</td>\n",
       "      <td>Champagne</td>\n",
       "      <td>NaN</td>\n",
       "      <td>Champagne Blend</td>\n",
       "      <td>Gosset</td>\n",
       "    </tr>\n",
       "    <tr>\n",
       "      <th>150929</th>\n",
       "      <td>Italy</td>\n",
       "      <td>More Pinot Grigios should taste like this. A r...</td>\n",
       "      <td>NaN</td>\n",
       "      <td>90</td>\n",
       "      <td>15.0</td>\n",
       "      <td>Northeastern Italy</td>\n",
       "      <td>Alto Adige</td>\n",
       "      <td>NaN</td>\n",
       "      <td>Pinot Grigio</td>\n",
       "      <td>Alois Lageder</td>\n",
       "    </tr>\n",
       "  </tbody>\n",
       "</table>\n",
       "<p>150930 rows × 10 columns</p>\n",
       "</div>"
      ],
      "text/plain": [
       "       country                                        description  \\\n",
       "0           US  This tremendous 100% varietal wine hails from ...   \n",
       "1        Spain  Ripe aromas of fig, blackberry and cassis are ...   \n",
       "...        ...                                                ...   \n",
       "150928  France  A perfect salmon shade, with scents of peaches...   \n",
       "150929   Italy  More Pinot Grigios should taste like this. A r...   \n",
       "\n",
       "                                 designation  points  price  \\\n",
       "0                          Martha's Vineyard      96  235.0   \n",
       "1       Carodorum Selección Especial Reserva      96  110.0   \n",
       "...                                      ...     ...    ...   \n",
       "150928                       Grand Brut Rosé      90   52.0   \n",
       "150929                                   NaN      90   15.0   \n",
       "\n",
       "                  province     region_1 region_2             variety  \\\n",
       "0               California  Napa Valley     Napa  Cabernet Sauvignon   \n",
       "1           Northern Spain         Toro      NaN       Tinta de Toro   \n",
       "...                    ...          ...      ...                 ...   \n",
       "150928           Champagne    Champagne      NaN     Champagne Blend   \n",
       "150929  Northeastern Italy   Alto Adige      NaN        Pinot Grigio   \n",
       "\n",
       "                         winery  \n",
       "0                         Heitz  \n",
       "1       Bodega Carmen Rodríguez  \n",
       "...                         ...  \n",
       "150928                   Gosset  \n",
       "150929            Alois Lageder  \n",
       "\n",
       "[150930 rows x 10 columns]"
      ]
     },
     "execution_count": 8,
     "metadata": {},
     "output_type": "execute_result"
    }
   ],
   "source": [
    "import pandas as pd\n",
    "reviews = pd.read_csv('../input/wine-reviews/winemag-data_first150k.csv', index_col = 0)\n",
    "\n",
    "# Check your answer\n",
    "q4.check()\n",
    "reviews"
   ]
  },
  {
   "cell_type": "code",
   "execution_count": 9,
   "id": "5887ec64",
   "metadata": {
    "execution": {
     "iopub.execute_input": "2021-12-30T23:16:48.241268Z",
     "iopub.status.busy": "2021-12-30T23:16:48.240212Z",
     "iopub.status.idle": "2021-12-30T23:16:48.242715Z",
     "shell.execute_reply": "2021-12-30T23:16:48.242095Z",
     "shell.execute_reply.started": "2021-12-30T23:15:23.617002Z"
    },
    "papermill": {
     "duration": 0.026543,
     "end_time": "2021-12-30T23:16:48.242851",
     "exception": false,
     "start_time": "2021-12-30T23:16:48.216308",
     "status": "completed"
    },
    "tags": []
   },
   "outputs": [],
   "source": [
    "#q4.hint()\n",
    "#q4.solution()"
   ]
  },
  {
   "cell_type": "markdown",
   "id": "63d7ff6d",
   "metadata": {
    "papermill": {
     "duration": 0.020088,
     "end_time": "2021-12-30T23:16:48.283476",
     "exception": false,
     "start_time": "2021-12-30T23:16:48.263388",
     "status": "completed"
    },
    "tags": []
   },
   "source": [
    "## 5.\n",
    "\n",
    "Run the cell below to create and display a DataFrame called `animals`:"
   ]
  },
  {
   "cell_type": "code",
   "execution_count": 10,
   "id": "063802c3",
   "metadata": {
    "execution": {
     "iopub.execute_input": "2021-12-30T23:16:48.333468Z",
     "iopub.status.busy": "2021-12-30T23:16:48.332478Z",
     "iopub.status.idle": "2021-12-30T23:16:48.337493Z",
     "shell.execute_reply": "2021-12-30T23:16:48.337924Z",
     "shell.execute_reply.started": "2021-12-30T23:15:23.622294Z"
    },
    "papermill": {
     "duration": 0.033161,
     "end_time": "2021-12-30T23:16:48.338100",
     "exception": false,
     "start_time": "2021-12-30T23:16:48.304939",
     "status": "completed"
    },
    "tags": []
   },
   "outputs": [
    {
     "data": {
      "text/html": [
       "<div>\n",
       "<style scoped>\n",
       "    .dataframe tbody tr th:only-of-type {\n",
       "        vertical-align: middle;\n",
       "    }\n",
       "\n",
       "    .dataframe tbody tr th {\n",
       "        vertical-align: top;\n",
       "    }\n",
       "\n",
       "    .dataframe thead th {\n",
       "        text-align: right;\n",
       "    }\n",
       "</style>\n",
       "<table border=\"1\" class=\"dataframe\">\n",
       "  <thead>\n",
       "    <tr style=\"text-align: right;\">\n",
       "      <th></th>\n",
       "      <th>Cows</th>\n",
       "      <th>Goats</th>\n",
       "    </tr>\n",
       "  </thead>\n",
       "  <tbody>\n",
       "    <tr>\n",
       "      <th>Year 1</th>\n",
       "      <td>12</td>\n",
       "      <td>22</td>\n",
       "    </tr>\n",
       "    <tr>\n",
       "      <th>Year 2</th>\n",
       "      <td>20</td>\n",
       "      <td>19</td>\n",
       "    </tr>\n",
       "  </tbody>\n",
       "</table>\n",
       "</div>"
      ],
      "text/plain": [
       "        Cows  Goats\n",
       "Year 1    12     22\n",
       "Year 2    20     19"
      ]
     },
     "execution_count": 10,
     "metadata": {},
     "output_type": "execute_result"
    }
   ],
   "source": [
    "animals = pd.DataFrame({'Cows': [12, 20], 'Goats': [22, 19]}, index=['Year 1', 'Year 2'])\n",
    "animals"
   ]
  },
  {
   "cell_type": "markdown",
   "id": "4434e2ae",
   "metadata": {
    "papermill": {
     "duration": 0.020405,
     "end_time": "2021-12-30T23:16:48.379407",
     "exception": false,
     "start_time": "2021-12-30T23:16:48.359002",
     "status": "completed"
    },
    "tags": []
   },
   "source": [
    "In the cell below, write code to save this DataFrame to disk as a csv file with the name `cows_and_goats.csv`."
   ]
  },
  {
   "cell_type": "code",
   "execution_count": 11,
   "id": "4c19878e",
   "metadata": {
    "execution": {
     "iopub.execute_input": "2021-12-30T23:16:48.426274Z",
     "iopub.status.busy": "2021-12-30T23:16:48.425398Z",
     "iopub.status.idle": "2021-12-30T23:16:48.430105Z",
     "shell.execute_reply": "2021-12-30T23:16:48.430561Z",
     "shell.execute_reply.started": "2021-12-30T23:15:44.591680Z"
    },
    "papermill": {
     "duration": 0.030428,
     "end_time": "2021-12-30T23:16:48.430728",
     "exception": false,
     "start_time": "2021-12-30T23:16:48.400300",
     "status": "completed"
    },
    "tags": []
   },
   "outputs": [],
   "source": [
    "animals.to_csv (\"cows_and_goats.csv\")\n",
    "\n"
   ]
  },
  {
   "cell_type": "code",
   "execution_count": 12,
   "id": "8b223b46",
   "metadata": {
    "execution": {
     "iopub.execute_input": "2021-12-30T23:16:48.476208Z",
     "iopub.status.busy": "2021-12-30T23:16:48.475243Z",
     "iopub.status.idle": "2021-12-30T23:16:48.486046Z",
     "shell.execute_reply": "2021-12-30T23:16:48.486628Z",
     "shell.execute_reply.started": "2021-12-30T23:15:23.647413Z"
    },
    "papermill": {
     "duration": 0.035022,
     "end_time": "2021-12-30T23:16:48.486788",
     "exception": false,
     "start_time": "2021-12-30T23:16:48.451766",
     "status": "completed"
    },
    "tags": []
   },
   "outputs": [
    {
     "data": {
      "application/javascript": [
       "parent.postMessage({\"jupyterEvent\": \"custom.exercise_interaction\", \"data\": {\"interactionType\": 2, \"questionType\": 2, \"questionId\": \"5_SaveAnimalsCsv\", \"learnToolsVersion\": \"0.3.4\", \"valueTowardsCompletion\": 0.0, \"failureMessage\": \"\", \"exceptionClass\": \"\", \"trace\": \"\", \"outcomeType\": 4}}, \"*\")"
      ],
      "text/plain": [
       "<IPython.core.display.Javascript object>"
      ]
     },
     "metadata": {},
     "output_type": "display_data"
    },
    {
     "data": {
      "text/markdown": [
       "<span style=\"color:#3366cc\">Hint:</span> Use [`to_csv`](https://pandas.pydata.org/pandas-docs/stable/generated/pandas.DataFrame.to_csv.html) to save a DataFrame to a CSV file."
      ],
      "text/plain": [
       "Hint: Use [`to_csv`](https://pandas.pydata.org/pandas-docs/stable/generated/pandas.DataFrame.to_csv.html) to save a DataFrame to a CSV file."
      ]
     },
     "metadata": {},
     "output_type": "display_data"
    },
    {
     "data": {
      "application/javascript": [
       "parent.postMessage({\"jupyterEvent\": \"custom.exercise_interaction\", \"data\": {\"interactionType\": 3, \"questionType\": 2, \"questionId\": \"5_SaveAnimalsCsv\", \"learnToolsVersion\": \"0.3.4\", \"valueTowardsCompletion\": 0.0, \"failureMessage\": \"\", \"exceptionClass\": \"\", \"trace\": \"\", \"outcomeType\": 4}}, \"*\")"
      ],
      "text/plain": [
       "<IPython.core.display.Javascript object>"
      ]
     },
     "metadata": {},
     "output_type": "display_data"
    },
    {
     "data": {
      "text/markdown": [
       "<span style=\"color:#33cc99\">Solution:</span> \n",
       "```python\n",
       "animals.to_csv(\"cows_and_goats.csv\")\n",
       "```"
      ],
      "text/plain": [
       "Solution: \n",
       "```python\n",
       "animals.to_csv(\"cows_and_goats.csv\")\n",
       "```"
      ]
     },
     "metadata": {},
     "output_type": "display_data"
    }
   ],
   "source": [
    "q5.hint()\n",
    "q5.solution()"
   ]
  },
  {
   "cell_type": "markdown",
   "id": "0ff8fa4d",
   "metadata": {
    "papermill": {
     "duration": 0.022538,
     "end_time": "2021-12-30T23:16:48.532114",
     "exception": false,
     "start_time": "2021-12-30T23:16:48.509576",
     "status": "completed"
    },
    "tags": []
   },
   "source": [
    "# Keep going\n",
    "\n",
    "Move on to learn about **[indexing, selecting and assigning](https://www.kaggle.com/residentmario/indexing-selecting-assigning)**."
   ]
  },
  {
   "cell_type": "markdown",
   "id": "33f47c9a",
   "metadata": {
    "papermill": {
     "duration": 0.02247,
     "end_time": "2021-12-30T23:16:48.577327",
     "exception": false,
     "start_time": "2021-12-30T23:16:48.554857",
     "status": "completed"
    },
    "tags": []
   },
   "source": [
    "---\n",
    "\n",
    "\n",
    "\n",
    "\n",
    "*Have questions or comments? Visit the [course discussion forum](https://www.kaggle.com/learn/pandas/discussion) to chat with other learners.*"
   ]
  }
 ],
 "metadata": {
  "kernelspec": {
   "display_name": "Python 3",
   "language": "python",
   "name": "python3"
  },
  "language_info": {
   "codemirror_mode": {
    "name": "ipython",
    "version": 3
   },
   "file_extension": ".py",
   "mimetype": "text/x-python",
   "name": "python",
   "nbconvert_exporter": "python",
   "pygments_lexer": "ipython3",
   "version": "3.7.12"
  },
  "papermill": {
   "default_parameters": {},
   "duration": 14.248551,
   "end_time": "2021-12-30T23:16:49.210880",
   "environment_variables": {},
   "exception": null,
   "input_path": "__notebook__.ipynb",
   "output_path": "__notebook__.ipynb",
   "parameters": {},
   "start_time": "2021-12-30T23:16:34.962329",
   "version": "2.3.3"
  }
 },
 "nbformat": 4,
 "nbformat_minor": 5
}
